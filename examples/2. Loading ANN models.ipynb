{
 "cells": [
  {
   "cell_type": "markdown",
   "metadata": {},
   "source": [
    "# 2. Loading the Transport Properties ANNs models\n",
    "\n",
    "This notebook is part of the Supporting Information of the article *Simulation and data-driven modeling of the transport properties of the Mie fluid* by Gustavo Chaparro and Erich A. Müller. (Submitted to Journal of Physical Chemistry B).\n",
    "\n",
    "This work aims to compute and model the self diffusivity ($D^*$), shear viscosity ($\\eta^*$), and thermal conductivity ($\\kappa^*$) of systems of particles interacting through the Mie potential:\n",
    "\n",
    "$$ \\frac{\\mathcal{U}^{Mie}}{\\epsilon} = \\underbrace{\\left[ \\frac{\\lambda_r}{\\lambda_r- \\lambda_a} \\left( \\frac{\\lambda_r}{\\lambda_a}\\right)^{\\frac{\\lambda_a}{\\lambda_r - \\lambda_a}}   \\right]}_{\\mathcal{C}^{Mie}} \\left[ \\left(\\frac{\\sigma}{r}\\right)^{\\lambda_r} -  \\left(\\frac{\\sigma}{r}\\right)^{\\lambda_a} \\right] $$ \n",
    "\n",
    "Here, $\\mathcal{U}^{Mie}$ is the interaction energy between two particles, $\\epsilon$ is the interaction energy well depth, $\\sigma$ is the length scale, loosely associated to the effective particle diameter, and $r$ is the center-to-center distance between two Mie particles. Finally, $\\lambda_r$ and $\\lambda_a$ are the repulsive and attractive exponents, respectively. This work uses reduced units in which the Boltzmann constant ($k_b$), potential well depth ($\\epsilon$), the shape parameter ($\\sigma$), and Mie particle mass ($M$) are set to unity.\n",
    "\n",
    "This notebook shows how to load the trained ANN models to compute the transport properties of the Mie Fluid. This notebook relies on the following packages:\n",
    "- Numpy (tested on version 1.24.2)\n",
    "- jax (tested on version 0.4.4)\n",
    "- flax (tested on version 0.6.6)\n",
    "- nest_asyncio\n",
    "- tp_modeling (Package containing the Transport Properties and Helmholtz models based on ANN using JAX and Flax)"
   ]
  },
  {
   "cell_type": "code",
   "execution_count": 1,
   "metadata": {},
   "outputs": [],
   "source": [
    "import numpy as np\n",
    "\n",
    "from tp_modeling import helper_get_alpha # helper function to get alpha_vdw value of a Mie Fluid\n",
    "from tp_modeling import HelmholtzModel   # Helmholtz energy model for a Mie Fluid (FE-ANN EoS)\n",
    "from tp_modeling import TransportModel_PVT # Transport model for the Mie Fluid (TP = ANN(alpha, rho, T))\n",
    "from tp_modeling import TransportModel_PVT_Tinv # Transport model for the Mie Fluid (TP = ANN(alpha, rho, 1/T))\n",
    "from tp_modeling import TransportModel_entropy # Transport model for the Mie Fluid  based on entropy scaling (TP = ANN(alpha, S^res))\n",
    "# scaling functions for diffusivity, viscosity and thermal conductivity (needed for entropy scaling)\n",
    "from tp_modeling import diffusivity_scaling, viscosity_scaling, thermal_conductivity_scaling \n",
    "from tp_modeling import TransportModelResidual_PVT_Tinv # Transport model for the Mie Fluid (TP = TP[1] + [ANN(alpha, rho, 1/T) -  ANN(alpha, rho=0., 1/T)])\n",
    "from tp_modeling import density_diffusivity_mie6_dilute, viscosity_mie6_dilute, thermal_conductivity_mie6_dilute # dilute gas approximations for diffusivity, viscosity and thermal conductivity\n",
    "from tp_modeling import linear_activation\n",
    "\n",
    "# some JAX/FLax imports\n",
    "from jax import numpy as jnp\n",
    "from jax.config import config\n",
    "from flax.training import checkpoints\n",
    "from flax.core import freeze\n",
    "from flax import linen as nn\n",
    "import nest_asyncio\n",
    "nest_asyncio.apply()\n",
    "\n",
    "# seeting up the precission to float64\n",
    "PRECISSION = 'float64'\n",
    "if PRECISSION == 'float64':\n",
    "    config.update(\"jax_enable_x64\", True)\n",
    "    type_np = np.float64\n",
    "    type_jax = jnp.float64\n",
    "else:\n",
    "    config.update(\"jax_enable_x32\", True)\n",
    "    type_np = np.float32\n",
    "    type_jax = jnp.float32"
   ]
  },
  {
   "cell_type": "markdown",
   "metadata": {},
   "source": [
    "## Transport property model description \n",
    "\n",
    "For all the ANNs, the Mie fluid is described by the $\\alpha_{vdw}$ parameter, obtained as follows.\n",
    "\n",
    "$$\\alpha_{vdw} =  \\mathcal{C}^{Mie} \\left[ \\frac{1}{\\lambda_a - 3} - \\frac{1}{\\lambda_r - 3}\\right]$$\n",
    "\n",
    "\n",
    "This work models a transport property ($\\gamma^*$) using three possible approaches.\n",
    "\n",
    "1. `TransportModel_PVT`, where a transport property is modeled as follows: $\\gamma^* = \\textnormal{ANN}(\\alpha_{vdw}, \\rho^*, T^*)$.\n",
    "2. `TransportModel_PVT_Tinv`, where a transport property is modeled as follows: $\\gamma^* = \\textnormal{ANN}(\\alpha_{vdw}, \\rho^*, 1/T^*)$.\n",
    "3. `TransportModel_entropy`, where a scaled transport property is modeled as follows: $\\tilde{\\gamma}^* = \\textnormal{ANN}(\\alpha_{vdw}, S^{*, res})$.\n",
    "4. `TransportModelResidual_PVT_Tinv`, where a transport property is modeled as follows: $\\gamma^* = \\gamma^*_{[1]} + [\\textnormal{ANN}(\\alpha_{vdw}, \\rho^*, 1/T^*) - \\textnormal{ANN}(\\alpha_{vdw}, \\rho^*=0, 1/T^*)]$.\n",
    "\n",
    "The first two approaches are a direct correlation of the transport property ($\\gamma^*$) at a given density ($\\rho^*$) and temperature ($T^*$). \n",
    "The third approach corresponds to entropy scaling, in which a reduced transport property is said to be an univariate function of the residual entropy ($S^{*, res}$). In this framework, the scaling of the transport property is given below.\n",
    "\n",
    "$$\\tilde{D}^* = \\frac{(\\rho^*)^{1/3} D^* }{\\sqrt{T^*}}; \\quad \\tilde{\\eta}^* = \\frac{\\eta^*}{(\\rho^*)^{2/3} \\sqrt{T^*}}; \\quad \\tilde{\\kappa}^* = \\frac{\\kappa^*}{(\\rho^*)^{2/3} \\sqrt{T^*}} $$\n",
    "\n",
    "When using entropy scaling, the residual entropy has to be obtained from an equation of state (EoS). In this work, we decided to use the FE-ANN EoS, which has been trained from molecular dynamics data of the Mie fluid in a vast range of density and temperature. For more information about the FE-ANN EoS [see this article](https://doi.org/10.1063/5.0146634).\n",
    "\n",
    "$$ A^{*, res} = \\textnormal{ANN}(\\alpha_{vdw}, \\rho^*, 1/T^*) - \\textnormal{ANN}(\\alpha_{vdw}, \\rho^*=0, 1/T^*) $$\n",
    "\n",
    "### Loading the trained models\n",
    "\n",
    "This repository's folder `../models` includes all the trained ANN parameters. We recommend using the following models:\n",
    "- `rhodiff-rho-Tinv`: $\\rho^* D^* = \\textnormal{ANN}(\\alpha_{vdw}, \\rho^*, 1/T^*)$\n",
    "- `logvisc-rho-Tinv-penalty-supcrit`: $\\ln \\eta^* = \\textnormal{ANN}(\\alpha_{vdw}, \\rho^*, 1/T^*)$ (Trained with the penalty function)\n",
    "- `logtcond-rho-Tinv`: $\\ln \\kappa^* = \\textnormal{ANN}(\\alpha_{vdw}, \\rho^*, 1/T^*)$\n",
    "- `residual-rhodiff-Tinv`:  $\\rho^* D^* = \\rho^* D^*_{[1]} + \\left[ \\textnormal{ANN}(\\alpha_{vdw}(\\lambda_r, 6), \\rho^*, 1/T^*) - \\textnormal{ANN}(\\alpha_{vdw}(\\lambda_r, 6), \\rho^*=0, 1/T^*) \\right]$\n",
    "\n",
    "The models are loaded using the `checkpoints` function from the `flax.training` package. This function requires the directory where the model is saved and the name of the model. The  `checkpoints` function outputs a dictionary with relevant information about the model, like the parameters, architecture, and seed used to initialize the model. This information is saved on the `state_restore` variable. Once this information is available, the model can be initialized. In Jax/Flax, the parameters of the ANNs (weights and biases) are detached from the model. For this reason, they have to be stored in an external variable. \n",
    "\n",
    "The self diffusivity model is loaded in the next cell as an example."
   ]
  },
  {
   "cell_type": "code",
   "execution_count": 2,
   "metadata": {},
   "outputs": [],
   "source": [
    "######################################\n",
    "# LOADING THE SELF DIFFUSIVITY MODEL #\n",
    "######################################\n",
    "\n",
    "# Folder where the model are stored\n",
    "save_dir = '../models/self-diffusivity'\n",
    "# Name of the model\n",
    "model_name = \"rhodiff-rho-Tinv\"\n",
    "prefix_tp = f'{model_name}-params'\n",
    "step = None\n",
    "# Loading the model\n",
    "state_restored = checkpoints.restore_checkpoint(save_dir, target=None, prefix=prefix_tp)\n",
    "tp_activation = state_restored['activation']\n",
    "tp_features = list(state_restored['features'].values())\n",
    "\n",
    "# Infering the model type\n",
    "if 'residual' in model_name:\n",
    "    TPModel = TransportModelResidual_PVT_Tinv\n",
    "elif 'Tinv' in model_name:\n",
    "    TPModel = TransportModel_PVT_Tinv\n",
    "elif 'entropy' in model_name:\n",
    "    TPModel = TransportModel_entropy\n",
    "else:\n",
    "    TPModel = TransportModel_PVT\n",
    "\n",
    "# Getting the output activation function\n",
    "if tp_activation == 'linear':\n",
    "    output_activation = linear_activation\n",
    "elif tp_activation == 'softplus':\n",
    "    output_activation = nn.softplus\n",
    "\n",
    "# ANN model\n",
    "diff_model = TPModel(features=tp_features, output_activation=output_activation)\n",
    "# ANN parameters\n",
    "diff_params = freeze({'params': state_restored['params']})"
   ]
  },
  {
   "cell_type": "markdown",
   "metadata": {},
   "source": [
    "The loaded model can predict the transport property using the `tp_model.apply` method. This method accepts floats, lists, or arrays as inputs for the $\\alpha_{vdw}$, $\\rho^*$, $T^*$ (or $\\lambda_r$, $\\rho^*$, $T^*$ for the $\\lambda_r$-6 residual models). However, they all have to have the same length. For this reason, we recommend providing the inputs as arrays."
   ]
  },
  {
   "cell_type": "code",
   "execution_count": 3,
   "metadata": {},
   "outputs": [
    {
     "name": "stderr",
     "output_type": "stream",
     "text": [
      "2024-01-17 16:39:47.049942: E external/org_tensorflow/tensorflow/compiler/xla/python/pjit.cc:606] fastpath_data is none\n"
     ]
    },
    {
     "data": {
      "text/plain": [
       "Array([0.18607218], dtype=float64)"
      ]
     },
     "execution_count": 3,
     "metadata": {},
     "output_type": "execute_result"
    }
   ],
   "source": [
    "lambda_r = np.asarray([12.])\n",
    "lambda_a = np.asarray([6.])\n",
    "alpha = helper_get_alpha(lambda_r, lambda_a)\n",
    "rhoad =np.array([0.8])\n",
    "Tad = np.array([3.])\n",
    "\n",
    "if 'residual' in model_name:\n",
    "    model_inputs = (lambda_r, rhoad, Tad)\n",
    "else:\n",
    "    model_inputs = (alpha, rhoad, Tad)\n",
    "\n",
    "diff_model.apply(diff_params, alpha, rhoad, Tad) # remember this models gives you rho*D"
   ]
  },
  {
   "cell_type": "markdown",
   "metadata": {},
   "source": [
    "Even though we noticed that entropy scaling does not accurately describe the transport properties over the whole density range, this modeling approach can still be used. In this case, the transport property model and the FE-ANN EoS must be loaded. Both models are loaded following the same procedure as described above."
   ]
  },
  {
   "cell_type": "code",
   "execution_count": 4,
   "metadata": {},
   "outputs": [],
   "source": [
    "####################\n",
    "# LOADING FE-ANN EOS\n",
    "####################\n",
    "\n",
    "save_dir = '../models/feanneos'\n",
    "prefix_feann = 'params'\n",
    "step = None\n",
    "state_restored = checkpoints.restore_checkpoint(save_dir, target=None, prefix=prefix_feann)\n",
    "helmholtz_features = list(state_restored['features'].values())\n",
    "helmholtz_params = freeze({'params': state_restored['params']})\n",
    "helmholtz_model = HelmholtzModel(features=helmholtz_features)\n",
    "\n",
    "#########################\n",
    "# LOADING TRANSPORT MODEL\n",
    "#########################\n",
    "\n",
    "save_dir = '../models/shear-viscosity'\n",
    "model_name = \"visc-entropy\"\n",
    "prefix_tp = f'{model_name}-params'\n",
    "step = None\n",
    "state_restored = checkpoints.restore_checkpoint(save_dir, target=None, prefix=prefix_tp)\n",
    "tp_activation = state_restored['activation']\n",
    "tp_features = list(state_restored['features'].values())\n",
    "\n",
    "# Infering the model type\n",
    "if 'residual' in model_name:\n",
    "    TPModel = TransportModelResidual_PVT_Tinv\n",
    "elif 'Tinv' in model_name:\n",
    "    TPModel = TransportModel_PVT_Tinv\n",
    "elif 'entropy' in model_name:\n",
    "    TPModel = TransportModel_entropy\n",
    "else:\n",
    "    TPModel = TransportModel_PVT\n",
    "\n",
    "if tp_activation == 'linear':\n",
    "    output_activation = linear_activation\n",
    "elif tp_activation == 'softplus':\n",
    "    output_activation = nn.softplus\n",
    "\n",
    "visc_model = TPModel(features=tp_features, output_activation=output_activation)\n",
    "visc_params = freeze({'params': state_restored['params']})"
   ]
  },
  {
   "cell_type": "markdown",
   "metadata": {},
   "source": [
    "In this case, the predictions of the transport property consist of a 3-step process.\n",
    "1. The residual entropy is obtained from the FE-ANN EoS\n",
    "2. The ANN is used to predict the scaled transport property\n",
    "3. The transport property has to be unscaled. We provide the `diffusivity_scaling`, `viscosity_scaling` and `thermal_conductivity_scaling ` for this purpose."
   ]
  },
  {
   "cell_type": "code",
   "execution_count": 5,
   "metadata": {},
   "outputs": [
    {
     "data": {
      "text/plain": [
       "Array([1.82613783], dtype=float64)"
      ]
     },
     "execution_count": 5,
     "metadata": {},
     "output_type": "execute_result"
    }
   ],
   "source": [
    "lambda_r = 12.\n",
    "lambda_a = 6.\n",
    "alpha =np.array([helper_get_alpha(lambda_r, lambda_a)])\n",
    "rhoad =np.array([0.8])\n",
    "Tad = np.array([3.])\n",
    "\n",
    "# First the residual entropy is obtained from the FE-ANN EOS\n",
    "S_res = helmholtz_model.entropy_residual(helmholtz_params, alpha, rhoad, Tad)\n",
    "# Then the transport properties are obtained from the entropy scaling model\n",
    "scaled_visc = visc_model.apply(visc_params, alpha, S_res)\n",
    "# Finally the transport properties are rescaled to the correct units\n",
    "visc = viscosity_scaling(rhoad, Tad, scaled_visc, unscale=True)\n",
    "visc"
   ]
  },
  {
   "cell_type": "markdown",
   "metadata": {},
   "source": [
    "In this work we also provide transport property models that separate the transport property between a dilute gas and a residual contribution. These models are only valid fro $\\lambda_r-6$ Mie fluids. The final transport property is computed as follows:\n",
    "\n",
    "$$ \\rho^* D^* = \\rho^* D^*_{[1]} + \\left[ \\textnormal{ANN}(\\alpha_{vdw}(\\lambda_r, 6), \\rho^*, 1/T^*) - \\textnormal{ANN}(\\alpha_{vdw}(\\lambda_r, 6), \\rho^*=0, 1/T^*) \\right]  $$ \n",
    "$$ \\ln \\eta^* = \\ln  \\eta^*_{[1]} + \\left[ \\textnormal{ANN}(\\alpha_{vdw}(\\lambda_r, 6), \\rho^*, 1/T^*) - \\textnormal{ANN}(\\alpha_{vdw}(\\lambda_r, 6), \\rho^*=0, 1/T^*) \\right] $$\n",
    "$$ \\ln \\kappa^* = \\ln  \\kappa^*_{[1]} + \\left[ \\textnormal{ANN}(\\alpha_{vdw}(\\lambda_r, 6), \\rho^*, 1/T^*) - \\textnormal{ANN}(\\alpha_{vdw}(\\lambda_r, 6), \\rho^*=0, 1/T^*) \\right]$$\n",
    "\n",
    "Here, $\\rho^* D^*_{[1]}$, $\\eta^*_{[1]}$, $\\kappa^*_{[1]}$ are the dilute gas transport property obtained from kinetic theory. These are a function of a collision integral $\\Omega^{(k,k)} and the temperature$ and are obtained as shown below.\n",
    "\n",
    "$$ \\rho^* D^*_{[1]} = \\frac{3}{8} \\frac{1}{\\Omega^{(1,1)*}} \\sqrt{\\frac{T^*}{\\pi}} $$\n",
    "$$ \\eta^*_{[1]} = \\frac{5}{12} \\frac{1}{\\Omega^{(2,2)*}}\\sqrt{\\frac{T^*}{\\pi}} $$ \n",
    "$$ \\kappa^*_{[1]} = \\frac{25}{32} \\frac{C_V^*}{\\Omega^{(2,2)*}}\\sqrt{\\frac{T^*}{\\pi}} $$ \n",
    "\n",
    "This models are loaded similarly as the one shown above. Here is an example for the "
   ]
  },
  {
   "cell_type": "code",
   "execution_count": 6,
   "metadata": {},
   "outputs": [],
   "source": [
    "###################################################\n",
    "# LOADING THE RESIDUAL THERMAL CONDUCTIVITY MODEL #\n",
    "###################################################\n",
    "\n",
    "# Folder where the model are stored\n",
    "save_dir = '../models/thermal-conductivity'\n",
    "# Name of the model\n",
    "model_name = \"residual-logtcond-rho-Tinv\"\n",
    "prefix_tp = f'{model_name}-params'\n",
    "step = None\n",
    "# Loading the model\n",
    "state_restored = checkpoints.restore_checkpoint(save_dir, target=None, prefix=prefix_tp)\n",
    "tp_activation = state_restored['activation']\n",
    "tp_features = list(state_restored['features'].values())\n",
    "\n",
    "# Infering the model type\n",
    "if 'residual' in model_name:\n",
    "    TPModel = TransportModelResidual_PVT_Tinv\n",
    "elif 'Tinv' in model_name:\n",
    "    TPModel = TransportModel_PVT_Tinv\n",
    "elif 'entropy' in model_name:\n",
    "    TPModel = TransportModel_entropy\n",
    "else:\n",
    "    TPModel = TransportModel_PVT\n",
    "\n",
    "# Getting the output activation function\n",
    "if tp_activation == 'linear':\n",
    "    output_activation = linear_activation\n",
    "elif tp_activation == 'softplus':\n",
    "    output_activation = nn.softplus\n",
    "\n",
    "# ANN model\n",
    "residual_tcond_model = TPModel(features=tp_features, output_activation=output_activation)\n",
    "# ANN parameters\n",
    "residual_tcond_params = freeze({'params': state_restored['params']})"
   ]
  },
  {
   "cell_type": "markdown",
   "metadata": {},
   "source": [
    "The main difference is that these residual model use the $\\lambda_r$ as input instead of $\\alpha_{vdw}$. The $\\alpha_{vdw}$ is computed internally for the $\\lambda_r-6$ pair. \n",
    "\n",
    "Additionally, the dilute gas property can be computed with the `density_diffusivity_mie6_dilute`, `viscosity_mie6_dilute` or `thermal_conductivity_mie6_dilute` functions. These use $\\lambda_r$ and $T^*$ as inputs."
   ]
  },
  {
   "cell_type": "code",
   "execution_count": 7,
   "metadata": {},
   "outputs": [
    {
     "data": {
      "text/plain": [
       "array([7.70180562])"
      ]
     },
     "execution_count": 7,
     "metadata": {},
     "output_type": "execute_result"
    }
   ],
   "source": [
    "lambda_r = 12.\n",
    "lambda_a = 6.\n",
    "alpha = np.atleast_1d(helper_get_alpha(lambda_r, lambda_a))\n",
    "rhoad =np.array([0.8])\n",
    "Tad = np.array([3.])\n",
    "\n",
    "if 'residual' in model_name:\n",
    "    model_inputs = (np.atleast_1d(lambda_r), rhoad, Tad)\n",
    "else:\n",
    "    model_inputs = (alpha, rhoad, Tad)\n",
    "\n",
    "# residual contribution\n",
    "lntcond_res = residual_tcond_model.apply(residual_tcond_params, *model_inputs) \n",
    "# dilute gas contribution\n",
    "lntcond_dilute = np.log(thermal_conductivity_mie6_dilute(lambda_r, Tad))\n",
    "# total thermal conductivity\n",
    "lntcond = lntcond_dilute + lntcond_res\n",
    "tcond = np.exp(lntcond)\n",
    "tcond"
   ]
  },
  {
   "cell_type": "markdown",
   "metadata": {},
   "source": []
  }
 ],
 "metadata": {
  "kernelspec": {
   "display_name": "jax",
   "language": "python",
   "name": "python3"
  },
  "language_info": {
   "codemirror_mode": {
    "name": "ipython",
    "version": 3
   },
   "file_extension": ".py",
   "mimetype": "text/x-python",
   "name": "python",
   "nbconvert_exporter": "python",
   "pygments_lexer": "ipython3",
   "version": "3.8.16"
  },
  "orig_nbformat": 4
 },
 "nbformat": 4,
 "nbformat_minor": 2
}
